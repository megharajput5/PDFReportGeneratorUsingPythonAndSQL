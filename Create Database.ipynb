{
 "cells": [
  {
   "cell_type": "code",
   "execution_count": 1,
   "id": "2ddb01f9",
   "metadata": {},
   "outputs": [],
   "source": [
    "import sqlite3\n",
    "import random\n",
    "import datetime"
   ]
  },
  {
   "cell_type": "code",
   "execution_count": 2,
   "id": "22ad4463",
   "metadata": {},
   "outputs": [],
   "source": [
    "# Define SQL commands for creating the tables\n",
    "create_sales_table = '''CREATE TABLE sales (\n",
    "                        sale_id INTEGER PRIMARY KEY,\n",
    "                        sale_date DATE,\n",
    "                        customer_id INTEGER,\n",
    "                        product_id INTEGER,\n",
    "                        quantity INTEGER,\n",
    "                        unit_price DECIMAL(10, 2),\n",
    "                        total_price DECIMAL(10, 2),\n",
    "                        FOREIGN KEY (customer_id) REFERENCES customers(customer_id),\n",
    "                        FOREIGN KEY (product_id) REFERENCES products(product_id)\n",
    "                     )'''\n",
    "\n",
    "create_products_table = '''CREATE TABLE products (\n",
    "                            product_id INTEGER PRIMARY KEY,\n",
    "                            product_name TEXT,\n",
    "                            unit_cost DECIMAL(10, 2)\n",
    "                         )'''\n",
    "\n",
    "create_customers_table = '''CREATE TABLE customers (\n",
    "                            customer_id INTEGER PRIMARY KEY,\n",
    "                            first_name TEXT,\n",
    "                            last_name TEXT,\n",
    "                            email TEXT,\n",
    "                            phone TEXT\n",
    "                         )'''"
   ]
  },
  {
   "cell_type": "code",
   "execution_count": 3,
   "id": "0b66777c",
   "metadata": {},
   "outputs": [],
   "source": [
    "# Define SQL commands for inserting sample data into the tables\n",
    "insert_products_data = '''INSERT INTO products (product_name, unit_cost) VALUES (?, ?)'''\n",
    "\n",
    "insert_sales_data = '''INSERT INTO sales (sale_date, customer_id, product_id, quantity, unit_price, total_price) VALUES (?, ?, ?, ?, ?, ?)'''\n",
    "\n",
    "insert_customers_data = '''INSERT INTO customers (first_name, last_name, email, phone) VALUES (?, ?, ?, ?)'''"
   ]
  },
  {
   "cell_type": "code",
   "execution_count": 4,
   "id": "67323e32",
   "metadata": {},
   "outputs": [],
   "source": [
    "# Define sample data for the products and customers tables\n",
    "products = [('Product A', 50.00), ('Product B', 25.00), ('Product C', 75.00), ('Product D', 40.00), ('Product E', 60.00)]\n",
    "\n",
    "customers = [\n",
    "    ('John', 'Doe', 'johndoe@example.com', '555-1234'),\n",
    "    ('Jane', 'Doe', 'janedoe@example.com', '555-5678'),\n",
    "    ('Bob', 'Smith', 'bobsmith@example.com', '555-9012'),\n",
    "    ('Alice', 'Jones', 'alicejones@example.com', '555-3456'),\n",
    "    ('David', 'Brown', 'davidbrown@example.com', '555-7890'),\n",
    "    ('Emily', 'Davis', 'emilydavis@example.com', '555-2345'),\n",
    "    ('Frank', 'Wilson', 'frankwilson@example.com', '555-6789'),\n",
    "    ('Grace', 'Lee', 'gracelee@example.com', '555-1234'),\n",
    "    ('Henry', 'Chen', 'henrychen@example.com', '555-5678'),\n",
    "    ('Isabel', 'Garcia', 'isabelgarcia@example.com', '555-9012')\n",
    "]"
   ]
  },
  {
   "cell_type": "code",
   "execution_count": 5,
   "id": "335bdbf2",
   "metadata": {},
   "outputs": [],
   "source": [
    "# Define the start and end dates for generating sales data\n",
    "start_date = datetime.date(2022, 1, 1)\n",
    "end_date = datetime.date(2022, 12, 31)"
   ]
  },
  {
   "cell_type": "code",
   "execution_count": 6,
   "id": "ababc516",
   "metadata": {},
   "outputs": [
    {
     "name": "stdout",
     "output_type": "stream",
     "text": [
      "Database successfully created!\n"
     ]
    }
   ],
   "source": [
    "# Connect to the database and create the tables\n",
    "with sqlite3.connect('sales.db') as conn:\n",
    "    # Create the sales table\n",
    "    conn.execute(create_sales_table)\n",
    "\n",
    "    # Create the products table\n",
    "    conn.execute(create_products_table)\n",
    "\n",
    "    # Create the customers table\n",
    "    conn.execute(create_customers_table)\n",
    "\n",
    "    # Insert sample data into the products table\n",
    "    for product in products:\n",
    "        conn.execute(insert_products_data, product)\n",
    "\n",
    "    # Insert sample data into the customers table\n",
    "    for customer in customers:\n",
    "                conn.execute(insert_customers_data, customer)\n",
    "\n",
    "    # Insert sample data into the sales table\n",
    "    for i in range(1000):\n",
    "        sale_date = start_date + datetime.timedelta(days=random.randint(0, 364))\n",
    "        customer_id = random.randint(1, len(customers))\n",
    "        product_id = random.randint(1, len(products))\n",
    "        quantity = random.randint(1, 10)\n",
    "        unit_price = products[product_id-1][1]\n",
    "        total_price = quantity * unit_price\n",
    "        conn.execute(insert_sales_data, (sale_date, customer_id, product_id, quantity, unit_price, total_price))\n",
    "\n",
    "    # Commit the changes\n",
    "    conn.commit()\n",
    "\n",
    "    print(\"Database successfully created!\")"
   ]
  }
 ],
 "metadata": {
  "kernelspec": {
   "display_name": "Python 3 (ipykernel)",
   "language": "python",
   "name": "python3"
  },
  "language_info": {
   "codemirror_mode": {
    "name": "ipython",
    "version": 3
   },
   "file_extension": ".py",
   "mimetype": "text/x-python",
   "name": "python",
   "nbconvert_exporter": "python",
   "pygments_lexer": "ipython3",
   "version": "3.9.12"
  }
 },
 "nbformat": 4,
 "nbformat_minor": 5
}
